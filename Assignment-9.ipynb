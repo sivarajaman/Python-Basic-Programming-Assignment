{
 "cells": [
  {
   "cell_type": "code",
   "execution_count": 2,
   "id": "699669ba",
   "metadata": {},
   "outputs": [
    {
     "name": "stdout",
     "output_type": "stream",
     "text": [
      "153\n",
      "Not Disaium\n"
     ]
    }
   ],
   "source": [
    "n=input()\n",
    "t=int(n)\n",
    "sum=0\n",
    "a=1\n",
    "for i in n:\n",
    "    sum+=int(i)**a\n",
    "    a+=1\n",
    "if t==sum:\n",
    "    print('Disaium')\n",
    "else:\n",
    "    print('Not Disaium')"
   ]
  },
  {
   "cell_type": "code",
   "execution_count": 3,
   "id": "faaa611b",
   "metadata": {},
   "outputs": [
    {
     "name": "stdout",
     "output_type": "stream",
     "text": [
      "1 2 3 4 5 6 7 8 9 89 "
     ]
    }
   ],
   "source": [
    "for i in range(1,101):\n",
    "    n=str(i)\n",
    "    sum=0\n",
    "    a=1\n",
    "    for j in n:\n",
    "        sum+=int(j)**a\n",
    "        a+=1\n",
    "    if i==sum:\n",
    "        print(i,end=' ')       "
   ]
  },
  {
   "cell_type": "code",
   "execution_count": null,
   "id": "5149f6b3",
   "metadata": {},
   "outputs": [],
   "source": [
    "def isHappyNumber(num):    \n",
    "    rem = sum = 0\n",
    "    while(num > 0):    \n",
    "        rem = num%10\n",
    "        sum = sum + (rem*rem)\n",
    "        num = num//10\n",
    "    return sum            \n",
    "num = int(input())\n",
    "result = num\n",
    "while(result != 1 and result != 4):\n",
    "    result = isHappyNumber(result)\n",
    "if(result == 1):\n",
    "    print('happy number')\n",
    "elif(result == 4):\n",
    "    print(\"not a happy number\")"
   ]
  },
  {
   "cell_type": "code",
   "execution_count": null,
   "id": "3e134255",
   "metadata": {},
   "outputs": [],
   "source": [
    "for i in range(1,101):\n",
    "    num=i\n",
    "    sum=0\n",
    "    while(sum != 1 and sum != 4):\n",
    "        sum = 0\n",
    "        while(num != 0):\n",
    "            rem = num%10\n",
    "            sum += rem*rem\n",
    "            num = num//10\n",
    "        num=sum\n",
    "    if(sum == 1):\n",
    "        print(i,end=' ')\n"
   ]
  },
  {
   "cell_type": "code",
   "execution_count": null,
   "id": "65582997",
   "metadata": {},
   "outputs": [],
   "source": [
    "n=int(input())\n",
    "r=s=0\n",
    "t=n\n",
    "while t>0:\n",
    "    r=t%10\n",
    "    s+=r\n",
    "    t//=10\n",
    "if n%s==0:\n",
    "    print('Harshad number')\n",
    "else:\n",
    "    print('Not Harshad number')"
   ]
  },
  {
   "cell_type": "code",
   "execution_count": null,
   "id": "5a815454",
   "metadata": {},
   "outputs": [],
   "source": [
    "def pronic(n):\n",
    "    f=False\n",
    "    for j in range(1,n+1):\n",
    "        if j*(j+1)==n:\n",
    "            f=True\n",
    "            break\n",
    "    return f\n",
    "for i in range(1,101):\n",
    "    if pronic(i):\n",
    "        print(i,end=' ')"
   ]
  }
 ],
 "metadata": {
  "kernelspec": {
   "display_name": "Python 3 (ipykernel)",
   "language": "python",
   "name": "python3"
  },
  "language_info": {
   "codemirror_mode": {
    "name": "ipython",
    "version": 3
   },
   "file_extension": ".py",
   "mimetype": "text/x-python",
   "name": "python",
   "nbconvert_exporter": "python",
   "pygments_lexer": "ipython3",
   "version": "3.9.7"
  }
 },
 "nbformat": 4,
 "nbformat_minor": 5
}
