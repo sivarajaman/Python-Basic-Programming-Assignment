{
 "cells": [
  {
   "cell_type": "code",
   "execution_count": 13,
   "id": "76c73b01",
   "metadata": {},
   "outputs": [
    {
     "name": "stdout",
     "output_type": "stream",
     "text": [
      "[11, 13, 15]\n",
      "[17, 19, 21]\n",
      "[23, 25, 27]\n"
     ]
    }
   ],
   "source": [
    "a=[[1,2,3],[4,5,6],[7,8,9]]\n",
    "b=[[10,11,12],[13,14,15],[16,17,18]]\n",
    "c=[]\n",
    "for i in range(len(a)):\n",
    "    d=[]\n",
    "    for j in range(len(b)):\n",
    "        d.append(a[i][j]+b[i][j])\n",
    "    c.append(d)\n",
    "for i in c:\n",
    "    print(i)"
   ]
  },
  {
   "cell_type": "code",
   "execution_count": 5,
   "id": "35249092",
   "metadata": {},
   "outputs": [
    {
     "name": "stdout",
     "output_type": "stream",
     "text": [
      "[37, 43, 59]\n",
      "[34, 58, 62]\n",
      "[58, 92, 103]\n"
     ]
    }
   ],
   "source": [
    "a=[[5,4,3],[2,4,6],[4,7,9]]\n",
    "b=[[3,2,4],[4,3,6],[2,7,5]]\n",
    "x=[[0,0,0],[0,0,0],[0,0,0]]\n",
    "for i in range(len(a)):\n",
    "    for j in range(len(b[0])):\n",
    "        sum=0\n",
    "        for k in range(len(b)):\n",
    "            sum+=a[i][k]*b[k][j]\n",
    "        x[i][j]=sum\n",
    "for i in x:\n",
    "    print(i)"
   ]
  },
  {
   "cell_type": "code",
   "execution_count": 14,
   "id": "40aba22e",
   "metadata": {},
   "outputs": [
    {
     "name": "stdout",
     "output_type": "stream",
     "text": [
      "[1, 4, 7]\n",
      "[2, 5, 8]\n",
      "[3, 6, 9]\n"
     ]
    }
   ],
   "source": [
    "a=[[1,2,3],[4,5,6],[7,8,9]]\n",
    "b=[[0,0,0],[0,0,0],[0,0,0]]\n",
    "for i in range(len(a)):\n",
    "    for j in range(len(a[0])):\n",
    "        b[j][i]=a[i][j]\n",
    "for i in b:\n",
    "    print(i)"
   ]
  },
  {
   "cell_type": "code",
   "execution_count": 20,
   "id": "9caa26a3",
   "metadata": {},
   "outputs": [
    {
     "name": "stdout",
     "output_type": "stream",
     "text": [
      "zoo apple cat vote neuron\n",
      "apple cat neuron vote zoo\n"
     ]
    }
   ],
   "source": [
    "s=input()\n",
    "a=s.split()\n",
    "a.sort()\n",
    "print(*a)"
   ]
  },
  {
   "cell_type": "code",
   "execution_count": 22,
   "id": "c523efde",
   "metadata": {},
   "outputs": [
    {
     "name": "stdout",
     "output_type": "stream",
     "text": [
      "hello world!! how are you?\n",
      "hello world how are you\n"
     ]
    }
   ],
   "source": [
    "s=input()\n",
    "pun='?<>:\"\"''-!@#$%^&*+_~`.,/|\\[]{}()'\n",
    "a=''\n",
    "for i in s:\n",
    "    if i not in pun:\n",
    "        a+=i\n",
    "print(a)"
   ]
  },
  {
   "cell_type": "code",
   "execution_count": null,
   "id": "24a3da69",
   "metadata": {},
   "outputs": [],
   "source": []
  }
 ],
 "metadata": {
  "kernelspec": {
   "display_name": "Python 3 (ipykernel)",
   "language": "python",
   "name": "python3"
  },
  "language_info": {
   "codemirror_mode": {
    "name": "ipython",
    "version": 3
   },
   "file_extension": ".py",
   "mimetype": "text/x-python",
   "name": "python",
   "nbconvert_exporter": "python",
   "pygments_lexer": "ipython3",
   "version": "3.9.7"
  }
 },
 "nbformat": 4,
 "nbformat_minor": 5
}
