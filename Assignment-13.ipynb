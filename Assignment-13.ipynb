{
 "cells": [
  {
   "cell_type": "code",
   "execution_count": 10,
   "id": "3bd865fc",
   "metadata": {},
   "outputs": [
    {
     "name": "stdout",
     "output_type": "stream",
     "text": [
      "100 150 180\n",
      "18 22 24 "
     ]
    }
   ],
   "source": [
    "import math\n",
    "l=list(map(int,input().split()))\n",
    "for i in l:\n",
    "    q=math.sqrt((2*50*i)/30)\n",
    "    print(int(q),end=' ')"
   ]
  },
  {
   "cell_type": "code",
   "execution_count": 14,
   "id": "8eb3fd60",
   "metadata": {},
   "outputs": [
    {
     "name": "stdout",
     "output_type": "stream",
     "text": [
      "3\n",
      "5\n",
      "[[0, 0, 0, 0, 0], [0, 1, 2, 3, 4], [0, 2, 4, 6, 8]]\n"
     ]
    }
   ],
   "source": [
    "r=int(input())\n",
    "c=int(input())\n",
    "m=[[0 for j in range(c)] for i in range(r)]\n",
    "for i in range(r):\n",
    "    for j in range(c):\n",
    "        m[i][j]=i*j\n",
    "print(m)"
   ]
  },
  {
   "cell_type": "code",
   "execution_count": 1,
   "id": "104426dc",
   "metadata": {},
   "outputs": [
    {
     "name": "stdout",
     "output_type": "stream",
     "text": [
      "without,hello,bag,world\n",
      "bag,hello,without,world\n"
     ]
    }
   ],
   "source": [
    "s=input().split(',')\n",
    "s.sort()\n",
    "a=''\n",
    "for i in range(len(s)):\n",
    "    if i==len(s)-1:\n",
    "        a+=s[i]\n",
    "    else:\n",
    "        a+=s[i]\n",
    "        a+=','\n",
    "print(a)"
   ]
  },
  {
   "cell_type": "code",
   "execution_count": 2,
   "id": "12b65858",
   "metadata": {},
   "outputs": [
    {
     "name": "stdout",
     "output_type": "stream",
     "text": [
      "hello world and practice makes perfect and hello world again\n",
      "again and hello makes perfect practice world\n"
     ]
    }
   ],
   "source": [
    "s=input().split()\n",
    "a=[]\n",
    "for i in s:\n",
    "    if i not in a:\n",
    "        a.append(i)\n",
    "a.sort()\n",
    "print(*a)"
   ]
  },
  {
   "cell_type": "code",
   "execution_count": 2,
   "id": "6a8936ed",
   "metadata": {},
   "outputs": [
    {
     "name": "stdout",
     "output_type": "stream",
     "text": [
      "hello world! 123\n",
      "LETTERS 10\n",
      "DIGITS 3\n"
     ]
    }
   ],
   "source": [
    "s=input()\n",
    "d=0\n",
    "l=0\n",
    "for i in s:\n",
    "    if i.isdigit():\n",
    "        d+=1\n",
    "    elif i.isalpha():\n",
    "        l+=1\n",
    "print('LETTERS',l)\n",
    "print('DIGITS',d)"
   ]
  },
  {
   "cell_type": "code",
   "execution_count": 8,
   "id": "3d3609a1",
   "metadata": {},
   "outputs": [
    {
     "name": "stdout",
     "output_type": "stream",
     "text": [
      "ABd1234@1,a F1#,2w3E*,2We3345\n",
      "ABd1234@1 "
     ]
    }
   ],
   "source": [
    "t=input().split(',')\n",
    "c=[chr(i) for i in range(65,91)]\n",
    "s=[chr(i) for i in range(97,123)]\n",
    "d=[chr(i) for i in range(48,58)]\n",
    "sc=['$','#','@']\n",
    "for i in t:\n",
    "    if len(i)>6 and len(i)<12:\n",
    "        cc=0\n",
    "        ac=0\n",
    "        dc=0\n",
    "        st=0\n",
    "        for j in i:\n",
    "            if j in c:\n",
    "                cc+=1\n",
    "            elif j in s:\n",
    "                ac+=1\n",
    "            elif j in d:\n",
    "                dc+=1\n",
    "            elif j in sc:\n",
    "                st+=1\n",
    "        if cc>=1 and ac>=1 and dc>=1 and st>=1:\n",
    "            print(i,end=' ')"
   ]
  }
 ],
 "metadata": {
  "kernelspec": {
   "display_name": "Python 3 (ipykernel)",
   "language": "python",
   "name": "python3"
  },
  "language_info": {
   "codemirror_mode": {
    "name": "ipython",
    "version": 3
   },
   "file_extension": ".py",
   "mimetype": "text/x-python",
   "name": "python",
   "nbconvert_exporter": "python",
   "pygments_lexer": "ipython3",
   "version": "3.9.7"
  }
 },
 "nbformat": 4,
 "nbformat_minor": 5
}
