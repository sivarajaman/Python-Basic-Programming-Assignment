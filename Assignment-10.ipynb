{
 "cells": [
  {
   "cell_type": "code",
   "execution_count": 1,
   "id": "e84eda8c",
   "metadata": {},
   "outputs": [
    {
     "name": "stdout",
     "output_type": "stream",
     "text": [
      "1 23 3 4 5 6\n",
      "42\n"
     ]
    }
   ],
   "source": [
    "l=list(map(int,input().split()))\n",
    "print(sum(l))"
   ]
  },
  {
   "cell_type": "code",
   "execution_count": 2,
   "id": "8c201ae1",
   "metadata": {},
   "outputs": [
    {
     "name": "stdout",
     "output_type": "stream",
     "text": [
      "1 2 3 4 5\n",
      "120\n"
     ]
    }
   ],
   "source": [
    "l=list(map(int,input().split()))\n",
    "m=1\n",
    "for i in l:\n",
    "    m*=i\n",
    "print(m)"
   ]
  },
  {
   "cell_type": "code",
   "execution_count": 3,
   "id": "6b1804b3",
   "metadata": {},
   "outputs": [
    {
     "name": "stdout",
     "output_type": "stream",
     "text": [
      "5 6 4 2 5 8 1 0\n",
      "0\n"
     ]
    }
   ],
   "source": [
    "l=list(map(int,input().split()))\n",
    "print(min(l))"
   ]
  },
  {
   "cell_type": "code",
   "execution_count": 4,
   "id": "c196f330",
   "metadata": {},
   "outputs": [
    {
     "name": "stdout",
     "output_type": "stream",
     "text": [
      "5 4 6 8 9 2 45\n",
      "45\n"
     ]
    }
   ],
   "source": [
    "l=list(map(int,input().split()))\n",
    "print(max(l))"
   ]
  },
  {
   "cell_type": "code",
   "execution_count": 5,
   "id": "8c581dc2",
   "metadata": {},
   "outputs": [
    {
     "name": "stdout",
     "output_type": "stream",
     "text": [
      "45 2 8 90 2 3 4 6 100\n",
      "90\n"
     ]
    }
   ],
   "source": [
    "l=list(map(int,input().split()))\n",
    "l.sort()\n",
    "print(l[-2])"
   ]
  },
  {
   "cell_type": "code",
   "execution_count": 6,
   "id": "373c19b2",
   "metadata": {},
   "outputs": [
    {
     "name": "stdout",
     "output_type": "stream",
     "text": [
      "45 2 6 5 565 89\n",
      "2\n",
      "89\n"
     ]
    }
   ],
   "source": [
    "l=list(map(int,input().split()))\n",
    "l.sort()\n",
    "n=int(input())\n",
    "print(l[-n])"
   ]
  },
  {
   "cell_type": "code",
   "execution_count": 7,
   "id": "58bcca88",
   "metadata": {},
   "outputs": [
    {
     "name": "stdout",
     "output_type": "stream",
     "text": [
      "56 2 3 4 8 9 10\n",
      "56 2 4 8 10 "
     ]
    }
   ],
   "source": [
    "l=list(map(int,input().split()))\n",
    "for i in l:\n",
    "    if i%2==0:\n",
    "        print(i,end=' ')"
   ]
  },
  {
   "cell_type": "code",
   "execution_count": 8,
   "id": "91b3a212",
   "metadata": {},
   "outputs": [
    {
     "name": "stdout",
     "output_type": "stream",
     "text": [
      "56 1 3 7 9 15 654\n",
      "1 3 7 9 15 "
     ]
    }
   ],
   "source": [
    "l=list(map(int,input().split()))\n",
    "for i in l:\n",
    "    if i%2!=0:\n",
    "        print(i,end=' ')"
   ]
  },
  {
   "cell_type": "code",
   "execution_count": 13,
   "id": "b752ccc4",
   "metadata": {},
   "outputs": [
    {
     "name": "stdout",
     "output_type": "stream",
     "text": [
      "[[12, 3, 5, 6, 8], [4, 5], [4, 5, 6]]\n"
     ]
    }
   ],
   "source": [
    "l=[[12,3,5,6,8],[4,5],[],[4,5,6]]\n",
    "for i in l:\n",
    "    if len(i)==0:\n",
    "        l.remove(i)\n",
    "print(l)"
   ]
  },
  {
   "cell_type": "code",
   "execution_count": 16,
   "id": "fc3993b6",
   "metadata": {},
   "outputs": [
    {
     "name": "stdout",
     "output_type": "stream",
     "text": [
      "1 23 45 6\n",
      "[1, 23, 45, 6]\n"
     ]
    }
   ],
   "source": [
    "l=list(map(int,input().split()))\n",
    "a=l.copy()\n",
    "print(a)"
   ]
  },
  {
   "cell_type": "code",
   "execution_count": 18,
   "id": "a7183c6d",
   "metadata": {},
   "outputs": [
    {
     "name": "stdout",
     "output_type": "stream",
     "text": [
      "1 5 4 1 3 6 5 2 1 4 5 3\n",
      "1 3\n",
      "5 3\n",
      "4 2\n",
      "3 2\n",
      "6 1\n",
      "2 1\n"
     ]
    }
   ],
   "source": [
    "l=list(map(int,input().split()))\n",
    "b=[]\n",
    "for i in l:\n",
    "    if i not in b:\n",
    "        b.append(i)\n",
    "        print(i,l.count(i))"
   ]
  },
  {
   "cell_type": "code",
   "execution_count": null,
   "id": "cce9ce9d",
   "metadata": {},
   "outputs": [],
   "source": []
  }
 ],
 "metadata": {
  "kernelspec": {
   "display_name": "Python 3 (ipykernel)",
   "language": "python",
   "name": "python3"
  },
  "language_info": {
   "codemirror_mode": {
    "name": "ipython",
    "version": 3
   },
   "file_extension": ".py",
   "mimetype": "text/x-python",
   "name": "python",
   "nbconvert_exporter": "python",
   "pygments_lexer": "ipython3",
   "version": "3.9.7"
  }
 },
 "nbformat": 4,
 "nbformat_minor": 5
}
