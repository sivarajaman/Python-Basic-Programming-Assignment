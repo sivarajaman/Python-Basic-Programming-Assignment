{
 "cells": [
  {
   "cell_type": "code",
   "execution_count": 1,
   "id": "4b7df825",
   "metadata": {},
   "outputs": [
    {
     "name": "stdout",
     "output_type": "stream",
     "text": [
      "[1, 2, 3, 36, 5, 6, 7, 70, 9, 4, 45, 52]\n"
     ]
    }
   ],
   "source": [
    "d={'abc':[5,6,7],'is':[5,2,1,3],'def':[70,52,45,36],'ghi':[9,1,3,4,5]}\n",
    "r=list({j for i in d.values() for j in i})\n",
    "print(r)"
   ]
  },
  {
   "cell_type": "code",
   "execution_count": null,
   "id": "504f16a0",
   "metadata": {},
   "outputs": [],
   "source": [
    "d={'a':56,'b':59,'c':100}\n",
    "l=[]\n",
    "for i in d:\n",
    "    l.append(d[i])\n",
    "print(sum(l))"
   ]
  },
  {
   "cell_type": "code",
   "execution_count": 6,
   "id": "05ddb7fc",
   "metadata": {},
   "outputs": [
    {
     "name": "stdout",
     "output_type": "stream",
     "text": [
      "{1: 'a', 2: 'b', 3: 'c', 4: 'kj', 5: 'hkg', 65: 'hg'}\n"
     ]
    }
   ],
   "source": [
    "d1={1:'a',2:'b',3:'c'}\n",
    "d2={4:'kj',5:'hkg',65:'hg'}\n",
    "d1.update(d2)\n",
    "print(d1)"
   ]
  },
  {
   "cell_type": "code",
   "execution_count": 8,
   "id": "6813f912",
   "metadata": {},
   "outputs": [
    {
     "name": "stdout",
     "output_type": "stream",
     "text": [
      "{1: 'jan', 2: 'feb', 3: 'mar'}\n"
     ]
    }
   ],
   "source": [
    "from itertools import product\n",
    "d={'month':[1,2,3],'name':['jan','feb','mar']}\n",
    "r=dict(zip(d['month'],d['name']))\n",
    "print(r)"
   ]
  },
  {
   "cell_type": "code",
   "execution_count": 13,
   "id": "6a4b1703",
   "metadata": {},
   "outputs": [
    {
     "name": "stdout",
     "output_type": "stream",
     "text": [
      "OrderedDict([('d', '4'), ('e', '5'), ('a', '1'), ('b', '2'), ('c', '3')])\n"
     ]
    }
   ],
   "source": [
    "from collections import OrderedDict\n",
    "d1=OrderedDict([('a','1'),('b','2'),('c','3')])\n",
    "d2=OrderedDict([('d','4'),('e','5')])\n",
    "d3=OrderedDict(list(d2.items())+list(d1.items()))\n",
    "print(d3)"
   ]
  },
  {
   "cell_type": "code",
   "execution_count": 4,
   "id": "9268b7e3",
   "metadata": {},
   "outputs": [
    {
     "name": "stdout",
     "output_type": "stream",
     "text": [
      "true\n"
     ]
    }
   ],
   "source": [
    "from collections import OrderedDict\n",
    "def checkOrder(s, k):\n",
    "    d = OrderedDict.fromkeys(s)\n",
    "    l = 0\n",
    "    for key,value in d.items():\n",
    "        if (key == k[l]):\n",
    "            l = l+ 1\n",
    "        if l == (len(k)):\n",
    "            return 'true'\n",
    "    return 'false'\n",
    "s = 'engineers rock'\n",
    "k= 'egr'\n",
    "print (checkOrder(s,k))"
   ]
  },
  {
   "cell_type": "code",
   "execution_count": 14,
   "id": "ac9531e0",
   "metadata": {},
   "outputs": [
    {
     "name": "stdout",
     "output_type": "stream",
     "text": [
      "OrderedDict([(1, 'pool'), (23, 'zoo'), (50, 'ball'), (90, 'apple')])\n"
     ]
    }
   ],
   "source": [
    "from collections import OrderedDict\n",
    "d={23:'zoo',1:'pool',90:'apple',50:'ball'}\n",
    "d1=OrderedDict(sorted(d.items()))\n",
    "print(d1)"
   ]
  }
 ],
 "metadata": {
  "kernelspec": {
   "display_name": "Python 3 (ipykernel)",
   "language": "python",
   "name": "python3"
  },
  "language_info": {
   "codemirror_mode": {
    "name": "ipython",
    "version": 3
   },
   "file_extension": ".py",
   "mimetype": "text/x-python",
   "name": "python",
   "nbconvert_exporter": "python",
   "pygments_lexer": "ipython3",
   "version": "3.9.7"
  }
 },
 "nbformat": 4,
 "nbformat_minor": 5
}
