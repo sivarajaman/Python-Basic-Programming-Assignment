{
 "cells": [
  {
   "cell_type": "code",
   "execution_count": 2,
   "id": "7d863aff",
   "metadata": {},
   "outputs": [
    {
     "name": "stdout",
     "output_type": "stream",
     "text": [
      "5\n",
      "120\n"
     ]
    }
   ],
   "source": [
    "n=int(input())\n",
    "fact=1\n",
    "if n==0 or n==1:\n",
    "    print(1)\n",
    "else:\n",
    "    for i in range(1,n+1):\n",
    "        fact*=i\n",
    "    print(fact)"
   ]
  },
  {
   "cell_type": "code",
   "execution_count": 5,
   "id": "c898a20e",
   "metadata": {},
   "outputs": [
    {
     "name": "stdout",
     "output_type": "stream",
     "text": [
      "4\n",
      "4  X  1 = 4\n",
      "4  X  2 = 8\n",
      "4  X  3 = 12\n",
      "4  X  4 = 16\n",
      "4  X  5 = 20\n",
      "4  X  6 = 24\n",
      "4  X  7 = 28\n",
      "4  X  8 = 32\n",
      "4  X  9 = 36\n",
      "4  X  10 = 40\n"
     ]
    }
   ],
   "source": [
    "n=int(input())\n",
    "for i in range(1,11):\n",
    "    print(n, ' X ',i,'=',n*i)"
   ]
  },
  {
   "cell_type": "code",
   "execution_count": 8,
   "id": "b6e73b80",
   "metadata": {},
   "outputs": [
    {
     "name": "stdout",
     "output_type": "stream",
     "text": [
      "10\n",
      "0 1 1 2 3 5 8 13 21 34 "
     ]
    }
   ],
   "source": [
    "n=int(input())\n",
    "a=0\n",
    "b=1\n",
    "for i in range(n):\n",
    "    print(a,end=' ')\n",
    "    c=a+b\n",
    "    a=b\n",
    "    b=c"
   ]
  },
  {
   "cell_type": "code",
   "execution_count": 9,
   "id": "ab972130",
   "metadata": {},
   "outputs": [
    {
     "name": "stdout",
     "output_type": "stream",
     "text": [
      "153\n",
      "Armstrong number\n"
     ]
    }
   ],
   "source": [
    "n=int(input())\n",
    "l=len(str(n))\n",
    "sum=0\n",
    "for i in str(n):\n",
    "    sum+=int(i)**l\n",
    "if sum==n:\n",
    "    print('Armstrong number')\n",
    "else:\n",
    "    print('Not Armstrong number')"
   ]
  },
  {
   "cell_type": "code",
   "execution_count": 12,
   "id": "d0e493d1",
   "metadata": {},
   "outputs": [
    {
     "name": "stdout",
     "output_type": "stream",
     "text": [
      "10000\n",
      "0 1 2 3 4 5 6 7 8 9 153 370 371 407 1634 8208 9474 "
     ]
    }
   ],
   "source": [
    "t=int(input())\n",
    "for i in range(t):\n",
    "    n=i\n",
    "    l=len(str(n))\n",
    "    sum=0\n",
    "    for i in str(n):\n",
    "        sum+=int(i)**l\n",
    "    if sum==n:\n",
    "        print(n,end=' ')    "
   ]
  },
  {
   "cell_type": "code",
   "execution_count": 2,
   "id": "5073d302",
   "metadata": {},
   "outputs": [
    {
     "name": "stdout",
     "output_type": "stream",
     "text": [
      "5\n",
      "15\n"
     ]
    }
   ],
   "source": [
    "n=int(input())\n",
    "sum=0\n",
    "for i in range(n+1):\n",
    "    sum+=i\n",
    "print(sum)"
   ]
  }
 ],
 "metadata": {
  "kernelspec": {
   "display_name": "Python 3 (ipykernel)",
   "language": "python",
   "name": "python3"
  },
  "language_info": {
   "codemirror_mode": {
    "name": "ipython",
    "version": 3
   },
   "file_extension": ".py",
   "mimetype": "text/x-python",
   "name": "python",
   "nbconvert_exporter": "python",
   "pygments_lexer": "ipython3",
   "version": "3.9.7"
  }
 },
 "nbformat": 4,
 "nbformat_minor": 5
}
