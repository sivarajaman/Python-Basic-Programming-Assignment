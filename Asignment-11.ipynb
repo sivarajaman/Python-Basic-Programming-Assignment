{
 "cells": [
  {
   "cell_type": "code",
   "execution_count": 1,
   "id": "658b787e",
   "metadata": {},
   "outputs": [
    {
     "name": "stdout",
     "output_type": "stream",
     "text": [
      "apple ball carrot pineapple dog\n",
      "3\n",
      "apple ball carrot pineapple "
     ]
    }
   ],
   "source": [
    "l=input().split()\n",
    "k=int(input())\n",
    "for i in l:\n",
    "    if len(i)>k:\n",
    "        print(i,end=' ')"
   ]
  },
  {
   "cell_type": "code",
   "execution_count": 7,
   "id": "101ee54a",
   "metadata": {},
   "outputs": [
    {
     "name": "stdout",
     "output_type": "stream",
     "text": [
      "apple\n",
      "2\n",
      "aple\n"
     ]
    }
   ],
   "source": [
    "l=list(input())\n",
    "k=int(input())\n",
    "l.pop(k)\n",
    "a=''\n",
    "for i in l:\n",
    "    a+=i\n",
    "print(a)"
   ]
  },
  {
   "cell_type": "code",
   "execution_count": 1,
   "id": "e9b5d965",
   "metadata": {},
   "outputs": [
    {
     "name": "stdout",
     "output_type": "stream",
     "text": [
      "one neuron\n",
      "['o', 'n', 'e', ' ', 'n', 'e', 'u', 'r', 'o', 'n']\n",
      "one neuron\n"
     ]
    }
   ],
   "source": [
    "l=list(input())\n",
    "print(l)\n",
    "a=''\n",
    "for i in l:\n",
    "    a+=i\n",
    "print(a)"
   ]
  },
  {
   "cell_type": "code",
   "execution_count": 17,
   "id": "74430c67",
   "metadata": {},
   "outputs": [
    {
     "name": "stdout",
     "output_type": "stream",
     "text": [
      "101000111\n",
      "Binary string\n"
     ]
    }
   ],
   "source": [
    "s=input()\n",
    "c=0\n",
    "for i in s:\n",
    "    if i=='0' or i=='1':\n",
    "        c+=1\n",
    "if c==len(s):\n",
    "    print('Binary string')\n",
    "else:\n",
    "    print('Not a Binary string')"
   ]
  },
  {
   "cell_type": "code",
   "execution_count": 6,
   "id": "1db1a4f7",
   "metadata": {},
   "outputs": [
    {
     "name": "stdout",
     "output_type": "stream",
     "text": [
      "apples\n",
      "apple\n",
      "s "
     ]
    }
   ],
   "source": [
    "s1=input()\n",
    "s2=input()\n",
    "for i in s1:\n",
    "    if i not in s2:\n",
    "        print(i,end=' ')"
   ]
  },
  {
   "cell_type": "code",
   "execution_count": 9,
   "id": "74e68bfd",
   "metadata": {},
   "outputs": [
    {
     "name": "stdout",
     "output_type": "stream",
     "text": [
      "oneneuron\n",
      "o n e\n"
     ]
    }
   ],
   "source": [
    "s=input()\n",
    "a=[]\n",
    "for i in s:\n",
    "    if s.count(i)>1 and i not in a:\n",
    "        a.append(i)\n",
    "print(*a)"
   ]
  },
  {
   "cell_type": "code",
   "execution_count": 11,
   "id": "59a092b5",
   "metadata": {},
   "outputs": [
    {
     "name": "stdout",
     "output_type": "stream",
     "text": [
      "oneneroun@2022\n",
      "True\n"
     ]
    }
   ],
   "source": [
    "s=input()\n",
    "c=0\n",
    "for i in s:\n",
    "    if i.isdigit() or i.isalpha():\n",
    "        pass\n",
    "    else:\n",
    "        c+=1\n",
    "if c>0:\n",
    "    print(True)\n",
    "else:\n",
    "    print(False)"
   ]
  }
 ],
 "metadata": {
  "kernelspec": {
   "display_name": "Python 3 (ipykernel)",
   "language": "python",
   "name": "python3"
  },
  "language_info": {
   "codemirror_mode": {
    "name": "ipython",
    "version": 3
   },
   "file_extension": ".py",
   "mimetype": "text/x-python",
   "name": "python",
   "nbconvert_exporter": "python",
   "pygments_lexer": "ipython3",
   "version": "3.9.7"
  }
 },
 "nbformat": 4,
 "nbformat_minor": 5
}
